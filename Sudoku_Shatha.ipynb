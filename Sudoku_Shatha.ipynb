{
 "cells": [
  {
   "cell_type": "code",
   "execution_count": 1,
   "metadata": {},
   "outputs": [
    {
     "name": "stdout",
     "output_type": "stream",
     "text": [
      "very_easy_puzzle.npy has been loaded into the variable sudoku\n",
      "sudoku.shape: (15, 9, 9), sudoku[0].shape: (9, 9), sudoku.dtype: int8\n",
      "\n",
      "First sudoku:\n",
      "[[0 9 3 1 5 2 6 0 8]\n",
      " [8 6 2 7 0 3 1 9 5]\n",
      " [1 5 7 9 8 6 3 2 4]\n",
      " [9 7 8 4 2 1 0 3 6]\n",
      " [5 0 6 8 3 9 4 1 7]\n",
      " [3 4 1 5 6 7 2 8 9]\n",
      " [6 1 4 2 7 8 9 5 3]\n",
      " [7 3 9 6 1 5 8 4 2]\n",
      " [2 8 5 3 9 4 7 6 1]] \n",
      "\n",
      "Solution of first sudoku:\n"
     ]
    },
    {
     "data": {
      "text/plain": [
       "array([[0, 9, 3, 1, 5, 2, 6, 0, 8],\n",
       "       [8, 6, 2, 7, 0, 3, 1, 9, 5],\n",
       "       [1, 5, 7, 9, 8, 6, 3, 2, 4],\n",
       "       [9, 7, 8, 4, 2, 1, 0, 3, 6],\n",
       "       [5, 0, 6, 8, 3, 9, 4, 1, 7],\n",
       "       [3, 4, 1, 5, 6, 7, 2, 8, 9],\n",
       "       [6, 1, 4, 2, 7, 8, 9, 5, 3],\n",
       "       [7, 3, 9, 6, 1, 5, 8, 4, 2],\n",
       "       [2, 8, 5, 3, 9, 4, 7, 6, 1]], dtype=int8)"
      ]
     },
     "execution_count": 1,
     "metadata": {},
     "output_type": "execute_result"
    }
   ],
   "source": [
    "import numpy as np\n",
    "\n",
    "# Load sudokus\n",
    "sudoku = np.load(\"data/very_easy_puzzle.npy\")\n",
    "print(\"very_easy_puzzle.npy has been loaded into the variable sudoku\")\n",
    "print(f\"sudoku.shape: {sudoku.shape}, sudoku[0].shape: {sudoku[0].shape}, sudoku.dtype: {sudoku.dtype}\")\n",
    "\n",
    "# Load solutions for demonstration\n",
    "solutions = np.load(\"data/very_easy_solution.npy\")\n",
    "print()\n",
    "\n",
    "# Print the first 9x9 sudoku...\n",
    "print(\"First sudoku:\")\n",
    "print(sudoku[1], \"\\n\")\n",
    "\n",
    "# ...and its solution\n",
    "print(\"Solution of first sudoku:\")\n",
    "solutions[1]\n",
    "\n",
    "type(sudoku[1])\n",
    "sudoku[1]"
   ]
  },
  {
   "cell_type": "code",
   "execution_count": 2,
   "metadata": {},
   "outputs": [
    {
     "data": {
      "text/plain": [
       "array([[0, 9, 3, 1, 5, 2, 6, 0, 8],\n",
       "       [8, 6, 2, 7, 0, 3, 1, 9, 5],\n",
       "       [1, 5, 7, 9, 8, 6, 3, 2, 4],\n",
       "       [9, 7, 8, 4, 2, 1, 0, 3, 6],\n",
       "       [5, 0, 6, 8, 3, 9, 4, 1, 7],\n",
       "       [3, 4, 1, 5, 6, 7, 2, 8, 9],\n",
       "       [6, 1, 4, 2, 7, 8, 9, 5, 3],\n",
       "       [7, 3, 9, 6, 1, 5, 8, 4, 2],\n",
       "       [2, 8, 5, 3, 9, 4, 7, 6, 1]], dtype=int8)"
      ]
     },
     "execution_count": 2,
     "metadata": {},
     "output_type": "execute_result"
    }
   ],
   "source": [
    "sudoku_1 = sudoku[1] \n",
    "sudoku_1\n",
    "\n",
    "#access sudoku_1: is just like accessing a 2_d list \n",
    "sudoku_1\n",
    "sudoku_1\n",
    "\n",
    "\n",
    "\n"
   ]
  },
  {
   "cell_type": "code",
   "execution_count": 3,
   "metadata": {},
   "outputs": [],
   "source": [
    "import copy"
   ]
  },
  {
   "cell_type": "code",
   "execution_count": 4,
   "metadata": {},
   "outputs": [],
   "source": [
    "class Sudoku_Partial_State:\n",
    "    \n",
    "    def __init__ (self, sudoku): \n",
    "        self.sudoku = sudoku\n",
    "        self.possible_values = list(range(0,10))\n",
    "        self.empty_location_list = []\n",
    "\n",
    "\n",
    "    def is_above_zero(self):\n",
    "        \"\"\"This partial state is a goal state if every column/ row has a final value\"\"\"\n",
    "        return np.all(self.sudoku > 0) #and sum no repetitions in column,rows, and 3x3 np.arrays\n",
    "            \n",
    "   \n",
    "    def is_row_final_state(self):\n",
    "        #checking for duplicates in rows\n",
    "        row_number = 1\n",
    "        for row in self.sudoku:\n",
    "            unique_row = np.unique(row)\n",
    "            if unique_row.size != len(row):\n",
    "                print('There are duplicates in row:', row_number)\n",
    "                return False\n",
    "            else: row_number+=1\n",
    "        return True\n",
    "            \n",
    "              \n",
    "    def is_column_final_state(self):\n",
    "        #checking for duplicates in columns\n",
    "        column_number = 1\n",
    "        for column in self.sudoku.T:\n",
    "            unique_column = np.unique(column)\n",
    "            if unique_column.size != len(column):\n",
    "                print('There are duplicates in column:', column_number)\n",
    "                return False\n",
    "            else: column_number+=1\n",
    "        return True\n",
    "    \n",
    "    def is_box_final_state(self):\n",
    "        #checking for duplicates in each box\n",
    "        #could be improved by running some for loop on it\n",
    "        box_1 = self.sudoku[0:3,0:3]\n",
    "        box_2 = self.sudoku[0:3,3:6]\n",
    "        box_3 = self.sudoku[0:3,6:9]\n",
    "        box_4 = self.sudoku[3:6,0:3]\n",
    "        box_5 = self.sudoku[3:6,3:6]\n",
    "        box_6 = self.sudoku[3:6,6:9]\n",
    "        box_7 = self.sudoku[6:9,0:3]\n",
    "        box_8 = self.sudoku[6:9,3:6]\n",
    "        box_9 = self.sudoku[6:9,6:9]\n",
    "        boxes_9 = [box_1,box_2,box_3,box_4,box_5,box_6,box_7,box_8,box_9]\n",
    "        box_number = 1\n",
    "        for box in boxes_9:\n",
    "            #check if each box is unique\n",
    "            unique_box = np.unique(box)\n",
    "            if unique_box.size != 9:\n",
    "                print('There are duplicates in box', box_number)\n",
    "                return False\n",
    "            else: box_number+=1  \n",
    "        return True\n",
    "    \n",
    "    def is_goal(self):\n",
    "        if self.is_row_final_state() and self.is_column_final_state() and self.is_box_final_state() and self.is_above_zero():\n",
    "            True\n",
    "\n",
    "    def get_empty_locations(self):\n",
    "        #looks for the location of zeros.\n",
    "        empty_location_arrays=np.where(self.sudoku==0)\n",
    "        empty_location_list=list(zip(empty_location_arrays[0],empty_location_arrays[1])) \n",
    "        return empty_location_list\n",
    "        \n",
    "    def get_all_possible_values(self):\n",
    "        return self.possible_values.copy()\n",
    "    \n",
    "    def get_possible_values(self,row,column):\n",
    "        # create a deep copy: the method returns a new state, does not modify the existing one\n",
    "        state = copy.deepcopy(self)\n",
    "        possible_values = state.possible_values   \n",
    "        \n",
    "        #remove duplicates in rows\n",
    "        row_array = self.sudoku[row]\n",
    "        unique_row_list=list(np.unique(row_array))\n",
    "        print('unique_row_list:', unique_row_list)\n",
    "        print('possible_values_before',possible_values)\n",
    "        for number in unique_row_list:   \n",
    "            if number in possible_values:\n",
    "                possible_values.remove(number)\n",
    "            \n",
    "            if len(possible_values) == 1:\n",
    "                solution = possible_values[0]\n",
    "                print('solution:',solution)\n",
    "                return solution                \n",
    "        print('possible_values_after_row',possible_values)\n",
    "                        \n",
    "        #remove duplicates in columns\n",
    "        column_array = self.sudoku.T[column]\n",
    "        unique_column_list = list(np.unique(column_array))\n",
    "        print('unique_column_list:', unique_column_list)\n",
    "        print('possible_values_before',possible_values)\n",
    "        for number in unique_column_list:\n",
    "            if number in possible_values:\n",
    "                possible_values.remove(number)\n",
    "                if len(possible_values) == 1:\n",
    "                    solution = possible_values[0]\n",
    "                    print('solution:',solution)\n",
    "                    return solution\n",
    "            \n",
    "        print('possible_values_after_column',possible_values)\n",
    "\n",
    "            \n",
    "        #remove duplicates in boxes #check with Hasan how to make this optimal# I know that this is very bad lol\n",
    "\n",
    "        #locate box:\n",
    "        if row <4 and column <4:\n",
    "            box = self.sudoku[0:3,0:3]\n",
    "        if row <4 and column <4:\n",
    "            box = self.sudoku[0:3,3:6]\n",
    "        if row <4 and column <4:\n",
    "            box = self.sudoku[0:3,6:9]\n",
    "        if row <4 and column <4:\n",
    "            box = self.sudoku[3:6,0:3]\n",
    "        if row <4 and column <4:\n",
    "            box = self.sudoku[3:6,3:6]\n",
    "        if row <4 and column <4:\n",
    "            box = self.sudoku[3:6,6:9]\n",
    "        if row <4 and column <4:\n",
    "            box = self.sudoku[6:9,0:3]\n",
    "        if row <4 and column <4:\n",
    "            box = self.sudoku[6:9,3:6]\n",
    "        if row <4 and column <4:\n",
    "            box = self.sudoku[6:9,6:9]\n",
    "        \n",
    "        box_list = sum(box.tolist(),[])\n",
    "        print('box_list', box_list)\n",
    "        print('possible_values_before',possible_values)\n",
    "        for number in box_list:\n",
    "            if number in possible_values:\n",
    "                possible_values.remove(number)\n",
    "                if len(possible_values) == 1:\n",
    "                    solution = possible_values[0]\n",
    "                    print('solution:',solution)\n",
    "                    return solution    \n",
    "        print('possible_values_after_box',possible_values)\n",
    "        \n",
    "        return possible_values\n",
    "    \n",
    "    \n",
    "    def set_value(self, possible_value,row,column):\n",
    "        new_state = self.sudoku\n",
    "        new_state[row, column] = possible_value\n",
    "        return new_state              \n",
    "        "
   ]
  },
  {
   "cell_type": "code",
   "execution_count": 5,
   "metadata": {},
   "outputs": [
    {
     "data": {
      "text/plain": [
       "4"
      ]
     },
     "execution_count": 5,
     "metadata": {},
     "output_type": "execute_result"
    }
   ],
   "source": [
    "#print('sudoku_1: ', sudoku_1)\n",
    "sudoku_one = Sudoku_Partial_State(sudoku_1)\n",
    "sudoku_one.set_value(4,0,0)\n",
    "\n",
    "len(sudoku_one.get_empty_locations())"
   ]
  },
  {
   "cell_type": "code",
   "execution_count": 6,
   "metadata": {},
   "outputs": [
    {
     "data": {
      "text/plain": [
       "True"
      ]
     },
     "execution_count": 6,
     "metadata": {},
     "output_type": "execute_result"
    }
   ],
   "source": [
    "True and True"
   ]
  },
  {
   "cell_type": "code",
   "execution_count": 7,
   "metadata": {},
   "outputs": [],
   "source": [
    "\n",
    "\n",
    "def search_for_solution(sudoku):\n",
    "    \n",
    "    partial_sudoku_state = Sudoku_Partial_State(sudoku)\n",
    "    \n",
    "    #checking if sudoku is solved \n",
    "    if partial_sudoku_state.is_goal():\n",
    "        print(\"Found a solution! Yay\")\n",
    "        return self.sudoku\n",
    "    \n",
    "    else: \n",
    "    #take the first empty location\n",
    "        i = 0\n",
    "        for empty_loc in range(0,len(partial_sudoku_state.get_empty_locations())):\n",
    "            partial_sudoku_state.get_empty_locations[i] #for example we got the first location (0,0)\n",
    "\n",
    "            #get possible values for this location\n",
    "            possible_valid_values = partial_sudoku_state.get_possible_values(empty_loc[0],empty_loc[1]) # this has returned a list of possible number for ex. [3,4,5]\n",
    "\n",
    "            #we will try each possible value in the possible_valid_values in a for loop: \n",
    "            for possible_value in possible_valid_values:\n",
    "                new_sudoku_state = partial_sudoku_state.set_value(possible_value,empty_loc[0],empty_loc[1])\n",
    "                i += 1\n",
    "\n",
    "                search_for_solution(new_sudoku_state)"
   ]
  },
  {
   "cell_type": "code",
   "execution_count": 8,
   "metadata": {},
   "outputs": [
    {
     "ename": "TypeError",
     "evalue": "'method' object is not subscriptable",
     "output_type": "error",
     "traceback": [
      "\u001b[0;31m---------------------------------------------------------------------------\u001b[0m",
      "\u001b[0;31mTypeError\u001b[0m                                 Traceback (most recent call last)",
      "\u001b[0;32m<ipython-input-8-7884cdfb795c>\u001b[0m in \u001b[0;36m<module>\u001b[0;34m\u001b[0m\n\u001b[0;32m----> 1\u001b[0;31m \u001b[0msearch_for_solution\u001b[0m\u001b[0;34m(\u001b[0m\u001b[0msudoku_1\u001b[0m\u001b[0;34m)\u001b[0m\u001b[0;34m\u001b[0m\u001b[0;34m\u001b[0m\u001b[0m\n\u001b[0m",
      "\u001b[0;32m<ipython-input-7-d40dcfef9533>\u001b[0m in \u001b[0;36msearch_for_solution\u001b[0;34m(sudoku)\u001b[0m\n\u001b[1;32m     12\u001b[0m         \u001b[0mi\u001b[0m \u001b[0;34m=\u001b[0m \u001b[0;36m0\u001b[0m\u001b[0;34m\u001b[0m\u001b[0;34m\u001b[0m\u001b[0m\n\u001b[1;32m     13\u001b[0m         \u001b[0;32mfor\u001b[0m \u001b[0mempty_loc\u001b[0m \u001b[0;32min\u001b[0m \u001b[0mrange\u001b[0m\u001b[0;34m(\u001b[0m\u001b[0;36m0\u001b[0m\u001b[0;34m,\u001b[0m\u001b[0mlen\u001b[0m\u001b[0;34m(\u001b[0m\u001b[0mpartial_sudoku_state\u001b[0m\u001b[0;34m.\u001b[0m\u001b[0mget_empty_locations\u001b[0m\u001b[0;34m(\u001b[0m\u001b[0;34m)\u001b[0m\u001b[0;34m)\u001b[0m\u001b[0;34m)\u001b[0m\u001b[0;34m:\u001b[0m\u001b[0;34m\u001b[0m\u001b[0;34m\u001b[0m\u001b[0m\n\u001b[0;32m---> 14\u001b[0;31m             \u001b[0mpartial_sudoku_state\u001b[0m\u001b[0;34m.\u001b[0m\u001b[0mget_empty_locations\u001b[0m\u001b[0;34m[\u001b[0m\u001b[0mi\u001b[0m\u001b[0;34m]\u001b[0m \u001b[0;31m#for example we got the first location (0,0)\u001b[0m\u001b[0;34m\u001b[0m\u001b[0;34m\u001b[0m\u001b[0m\n\u001b[0m\u001b[1;32m     15\u001b[0m \u001b[0;34m\u001b[0m\u001b[0m\n\u001b[1;32m     16\u001b[0m             \u001b[0;31m#get possible values for this location\u001b[0m\u001b[0;34m\u001b[0m\u001b[0;34m\u001b[0m\u001b[0;34m\u001b[0m\u001b[0m\n",
      "\u001b[0;31mTypeError\u001b[0m: 'method' object is not subscriptable"
     ]
    }
   ],
   "source": [
    "search_for_solution(sudoku_1)"
   ]
  },
  {
   "cell_type": "code",
   "execution_count": 9,
   "metadata": {},
   "outputs": [
    {
     "ename": "NameError",
     "evalue": "name 'Sudoku_Solution' is not defined",
     "output_type": "error",
     "traceback": [
      "\u001b[0;31m---------------------------------------------------------------------------\u001b[0m",
      "\u001b[0;31mNameError\u001b[0m                                 Traceback (most recent call last)",
      "\u001b[0;32m<ipython-input-9-92ddaa7151f6>\u001b[0m in \u001b[0;36m<module>\u001b[0;34m\u001b[0m\n\u001b[0;32m----> 1\u001b[0;31m \u001b[0ms_2\u001b[0m \u001b[0;34m=\u001b[0m\u001b[0mSudoku_Solution\u001b[0m\u001b[0;34m(\u001b[0m\u001b[0msudoku_2\u001b[0m\u001b[0;34m)\u001b[0m\u001b[0;34m\u001b[0m\u001b[0;34m\u001b[0m\u001b[0m\n\u001b[0m\u001b[1;32m      2\u001b[0m \u001b[0;34m\u001b[0m\u001b[0m\n\u001b[1;32m      3\u001b[0m \u001b[0mx\u001b[0m\u001b[0;34m=\u001b[0m\u001b[0mnp\u001b[0m\u001b[0;34m.\u001b[0m\u001b[0marray\u001b[0m\u001b[0;34m(\u001b[0m\u001b[0ms_2\u001b[0m\u001b[0;34m.\u001b[0m\u001b[0msudoku\u001b[0m\u001b[0;34m)\u001b[0m\u001b[0;34m\u001b[0m\u001b[0;34m\u001b[0m\u001b[0m\n\u001b[1;32m      4\u001b[0m \u001b[0ms_2\u001b[0m\u001b[0;34m[\u001b[0m\u001b[0;36m0\u001b[0m\u001b[0;34m,\u001b[0m\u001b[0;36m0\u001b[0m\u001b[0;34m]\u001b[0m \u001b[0;34m=\u001b[0m \u001b[0;36m1\u001b[0m\u001b[0;34m\u001b[0m\u001b[0;34m\u001b[0m\u001b[0m\n\u001b[1;32m      5\u001b[0m \u001b[0;34m\u001b[0m\u001b[0m\n",
      "\u001b[0;31mNameError\u001b[0m: name 'Sudoku_Solution' is not defined"
     ]
    }
   ],
   "source": [
    "s_2 =Sudoku_Solution(sudoku_2)\n",
    "\n",
    "x=np.array(s_2.sudoku)\n",
    "s_2[0,0] = 1\n",
    "    \n",
    "    "
   ]
  },
  {
   "cell_type": "code",
   "execution_count": 10,
   "metadata": {},
   "outputs": [
    {
     "name": "stdout",
     "output_type": "stream",
     "text": [
      "<class 'numpy.ndarray'>\n"
     ]
    },
    {
     "data": {
      "text/plain": [
       "array([[5, 2],\n",
       "       [3, 4]])"
      ]
     },
     "execution_count": 10,
     "metadata": {},
     "output_type": "execute_result"
    }
   ],
   "source": [
    "test_array = np.array([[1,2],[3,4]])\n",
    "print(type(test_array))\n",
    "\n",
    "test_array[0,0] = 5\n",
    "\n",
    "test_array"
   ]
  },
  {
   "cell_type": "code",
   "execution_count": null,
   "metadata": {},
   "outputs": [],
   "source": []
  },
  {
   "cell_type": "code",
   "execution_count": null,
   "metadata": {},
   "outputs": [],
   "source": []
  },
  {
   "cell_type": "code",
   "execution_count": null,
   "metadata": {},
   "outputs": [],
   "source": []
  },
  {
   "cell_type": "code",
   "execution_count": null,
   "metadata": {},
   "outputs": [],
   "source": []
  },
  {
   "cell_type": "code",
   "execution_count": null,
   "metadata": {},
   "outputs": [],
   "source": []
  }
 ],
 "metadata": {
  "kernelspec": {
   "display_name": "Python 3",
   "language": "python",
   "name": "python3"
  },
  "language_info": {
   "codemirror_mode": {
    "name": "ipython",
    "version": 3
   },
   "file_extension": ".py",
   "mimetype": "text/x-python",
   "name": "python",
   "nbconvert_exporter": "python",
   "pygments_lexer": "ipython3",
   "version": "3.8.3"
  }
 },
 "nbformat": 4,
 "nbformat_minor": 4
}
